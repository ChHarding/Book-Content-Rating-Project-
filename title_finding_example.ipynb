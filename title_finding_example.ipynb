{
 "cells": [
  {
   "cell_type": "code",
   "execution_count": 1,
   "metadata": {},
   "outputs": [],
   "source": [
    "import pandas as pd\n",
    "\n",
    "df = pd.read_csv(\"dataset_filtered.csv\")"
   ]
  },
  {
   "cell_type": "code",
   "execution_count": 4,
   "metadata": {},
   "outputs": [],
   "source": [
    "# Function to autocomplete a title from a few letters\n",
    "def autocomplete_title(start_of_title, df):\n",
    "   \n",
    "    # make the filter case-insensitive\n",
    "    start_of_title = start_of_title.title()\n",
    "    lc_title = df['title'].str.title() #\n",
    "    \n",
    "    # Filter title that start with the start_of_title\n",
    "    startswithdf = df[lc_title.str.startswith(start_of_title, na=False)] \n",
    "\n",
    "    result = startswithdf['title'].tolist() # convert to list\n",
    "    return result"
   ]
  },
  {
   "cell_type": "code",
   "execution_count": 3,
   "metadata": {},
   "outputs": [
    {
     "name": "stdout",
     "output_type": "stream",
     "text": [
      "Elapsed time:  0.6855161190032959\n",
      "The lord of t\n",
      "['The Lord of the Rings LCG: The Treason of Saruman Saga Expansion', 'The Lord of the Rings LCG: The Antlered Crown Adventure Pack', 'The Lord of the Rings Lcg : Trouble in Tharbad Adventure Pack', 'The Lord of the Rings Lcg : The Morgul Vale Adventure Pack', 'The Lord of the Rings Lcg : The Road Darkens', 'The Lord of the Rings : The Card Game', 'The Lord of Trivia - Boxed, Daily Calendar 2021 : The Ultimate Middle Earth Fan Challenge', 'The Lord of the Rings Omnibus : The Fellowship of the Ring, the Two Towers, the Return of the King', 'The Lord of the Rings', 'The Lord of the Rings : Part Three: the Return of the King', 'The Lord of the Rings : Part Two: the Two Towers', 'The Lord of the Rings : Part One: the Fellowship of the Ring', 'The Lord of the Rings CD Gift Set', 'The Lord Of The Rings: The Trilogy : The Complete Collection Of The Classic BBC Radio Production', 'The Lord of the Rings and the Hobbit Set', 'The Lord of the Rings', 'The Lord of the Rings - Spanish : El senor de los anillos 3: El retorno del rey', 'The Lord of the Sands of Time (Novel)', \"The Lord of the Rings: A Reader's Companion\", 'The Lord of the Rings', 'The Lord of the Rings', 'The Lord of the Rings', 'The Lord of the Rings : Boxed Set', 'The Lord of the Rings', 'The Lord of the Rings', 'The Lord of the Rings Deluxe Edition', 'The Lord of the Rings Coloring Book : Coloring All Your Favorite Characters in the Lord of the Rings', 'The Lord of the Ring Dings', 'The Lord of the Grins', 'The Lord of the Rings 1954-2004 : Scholarship in Honor of Richard E. Blackwelder', 'The Lord of the Rings and Philosophy : One Book to Rule Them All']\n"
     ]
    }
   ],
   "source": [
    "# let's see how fast it is\n",
    "\n",
    "import time \n",
    "\n",
    "start = input(\"Enter the start of the title: \")\n",
    "\n",
    "start_time = time.time()\n",
    "suggested = autocomplete_title(start, df)\n",
    "end_time = time.time()\n",
    "elapsed_time = end_time - start_time\n",
    "\n",
    "print(\"Elapsed time: \", elapsed_time)\n",
    "print(start)\n",
    "print(suggested)  "
   ]
  },
  {
   "cell_type": "code",
   "execution_count": null,
   "metadata": {},
   "outputs": [],
   "source": [
    "!pip install python-Levenshtein rapidfuzz"
   ]
  },
  {
   "cell_type": "code",
   "execution_count": 8,
   "metadata": {},
   "outputs": [
    {
     "name": "stdout",
     "output_type": "stream",
     "text": [
      "0 The Ring\n",
      "1 The Lord Of The Rings : Part One: The Fellowship Of The Ring\n",
      "2 The Lord Of The Rings Omnibus : The Fellowship Of The Ring, The Two Towers, The Return Of The King\n",
      "3 Lord Of The Ring : Ethereal Power Of Rings\n",
      "4 Ring\n"
     ]
    }
   ],
   "source": [
    "from rapidfuzz import fuzz, process\n",
    "\n",
    "# Function to find the top N best matches for a search term in a list of book titles\n",
    "def find_top_matches(search_term, book_titles, n=5):\n",
    "    matches = process.extract(search_term, book_titles, scorer=fuzz.token_set_ratio, limit=n)\n",
    "    matches = [match[0] for match in matches]\n",
    "    return list(set(matches)) # remove duplicates\n",
    "\n",
    "partial_title = \"ring of the lord\".title()\n",
    "#partial_title = \"make money with \".title()\n",
    "\n",
    "results = find_top_matches(partial_title, df['title'].str.title(), n=5) \n",
    "\n",
    "for i,s in enumerate(results):\n",
    "    print(i, s)    "
   ]
  }
 ],
 "metadata": {
  "kernelspec": {
   "display_name": "Python 3",
   "language": "python",
   "name": "python3"
  },
  "language_info": {
   "codemirror_mode": {
    "name": "ipython",
    "version": 3
   },
   "file_extension": ".py",
   "mimetype": "text/x-python",
   "name": "python",
   "nbconvert_exporter": "python",
   "pygments_lexer": "ipython3",
   "version": "3.10.9"
  },
  "orig_nbformat": 4
 },
 "nbformat": 4,
 "nbformat_minor": 2
}
