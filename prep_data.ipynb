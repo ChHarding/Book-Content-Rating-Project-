{
 "cells": [
  {
   "cell_type": "code",
   "execution_count": 8,
   "metadata": {},
   "outputs": [
    {
     "data": {
      "text/plain": [
       "1109383"
      ]
     },
     "execution_count": 8,
     "metadata": {},
     "output_type": "execute_result"
    }
   ],
   "source": [
    "import pandas as pd\n",
    "\n",
    "# Specify the columns you want to read\n",
    "columns_to_read = [\"title\", \"description\", \"for-ages\", \"rating-avg\" ]\n",
    "\n",
    "# Read the CSV file and select only the specified columns\n",
    "df = pd.read_csv(\"dataset.csv\", usecols=columns_to_read)\n",
    "\n",
    "len(df)\n"
   ]
  },
  {
   "cell_type": "code",
   "execution_count": 10,
   "metadata": {},
   "outputs": [
    {
     "data": {
      "text/plain": [
       "NaN      1033390\n",
       "12-17      39267\n",
       "9-12       15287\n",
       "0-5        11734\n",
       "6-8         4219\n",
       "9+          1397\n",
       "3-5          923\n",
       "8+           480\n",
       "5+           385\n",
       "12+          317\n",
       "10+          310\n",
       "11+          296\n",
       "4+           235\n",
       "6+           217\n",
       "6-12         197\n",
       "14+          115\n",
       "3+           101\n",
       "7+            94\n",
       "18+           91\n",
       "13+           86\n",
       "0-2           54\n",
       "1+            38\n",
       "0-18          18\n",
       "15+           17\n",
       "2+            17\n",
       "22+           13\n",
       "0-9           10\n",
       "2-6            7\n",
       "0-14           6\n",
       "7-7            5\n",
       "5-5            4\n",
       "0-7            4\n",
       "0-16           4\n",
       "8-8            4\n",
       "6-6            4\n",
       "16+            4\n",
       "0-17           3\n",
       "0-11           3\n",
       "0-10           3\n",
       "20-20          2\n",
       "0-8            2\n",
       "0-12           2\n",
       "0-13           2\n",
       "7-12           2\n",
       "20+            2\n",
       "17+            2\n",
       "22-22          1\n",
       "5-7            1\n",
       "9-11           1\n",
       "21+            1\n",
       "0-15           1\n",
       "10-10          1\n",
       "0-6            1\n",
       "18-18          1\n",
       "6-11           1\n",
       "5-13           1\n",
       "Name: for-ages, dtype: int64"
      ]
     },
     "metadata": {},
     "output_type": "display_data"
    },
    {
     "data": {
      "text/html": [
       "<div>\n",
       "<style scoped>\n",
       "    .dataframe tbody tr th:only-of-type {\n",
       "        vertical-align: middle;\n",
       "    }\n",
       "\n",
       "    .dataframe tbody tr th {\n",
       "        vertical-align: top;\n",
       "    }\n",
       "\n",
       "    .dataframe thead th {\n",
       "        text-align: right;\n",
       "    }\n",
       "</style>\n",
       "<table border=\"1\" class=\"dataframe\">\n",
       "  <thead>\n",
       "    <tr style=\"text-align: right;\">\n",
       "      <th></th>\n",
       "      <th>description</th>\n",
       "      <th>rating-avg</th>\n",
       "      <th>title</th>\n",
       "    </tr>\n",
       "  </thead>\n",
       "  <tbody>\n",
       "    <tr>\n",
       "      <th>0</th>\n",
       "      <td>SOLDIER FIVE is an elite soldier's explosive m...</td>\n",
       "      <td>4.03</td>\n",
       "      <td>Soldier Five : The Real Truth About The Bravo ...</td>\n",
       "    </tr>\n",
       "    <tr>\n",
       "      <th>1</th>\n",
       "      <td>John Moran and Carl Williams were the two bigg...</td>\n",
       "      <td>3.60</td>\n",
       "      <td>Underbelly : The Gangland War</td>\n",
       "    </tr>\n",
       "    <tr>\n",
       "      <th>2</th>\n",
       "      <td>Sir Phillip knew that Eloise Bridgerton was a ...</td>\n",
       "      <td>3.88</td>\n",
       "      <td>A Sir Phillip, Con Amor</td>\n",
       "    </tr>\n",
       "    <tr>\n",
       "      <th>3</th>\n",
       "      <td>The Third Book of General Ignorance  gathers t...</td>\n",
       "      <td>4.17</td>\n",
       "      <td>QI: The Third Book of General Ignorance</td>\n",
       "    </tr>\n",
       "    <tr>\n",
       "      <th>4</th>\n",
       "      <td>The Try Guys deliver their first book-an inspi...</td>\n",
       "      <td>3.90</td>\n",
       "      <td>The Hidden Power of F*cking Up</td>\n",
       "    </tr>\n",
       "    <tr>\n",
       "      <th>...</th>\n",
       "      <td>...</td>\n",
       "      <td>...</td>\n",
       "      <td>...</td>\n",
       "    </tr>\n",
       "    <tr>\n",
       "      <th>1109378</th>\n",
       "      <td>NaN</td>\n",
       "      <td>NaN</td>\n",
       "      <td>Making Money at the Races</td>\n",
       "    </tr>\n",
       "    <tr>\n",
       "      <th>1109379</th>\n",
       "      <td>This 2020 Diary/Planner has one week per 2 pag...</td>\n",
       "      <td>NaN</td>\n",
       "      <td>2020 : Diary, Weekly Planner, Organiser, Year ...</td>\n",
       "    </tr>\n",
       "    <tr>\n",
       "      <th>1109380</th>\n",
       "      <td>This special re-print edition of James A. Crui...</td>\n",
       "      <td>NaN</td>\n",
       "      <td>Canoeing and Camping</td>\n",
       "    </tr>\n",
       "    <tr>\n",
       "      <th>1109381</th>\n",
       "      <td>Good western riding doesn't just happen. J.P. ...</td>\n",
       "      <td>NaN</td>\n",
       "      <td>The Complete Guide to Western Horsemanship (Cl...</td>\n",
       "    </tr>\n",
       "    <tr>\n",
       "      <th>1109382</th>\n",
       "      <td>This complete guide tells how to develop the h...</td>\n",
       "      <td>NaN</td>\n",
       "      <td>Show Ring Success : A Rider's Guide to Winning...</td>\n",
       "    </tr>\n",
       "  </tbody>\n",
       "</table>\n",
       "<p>1109383 rows × 3 columns</p>\n",
       "</div>"
      ],
      "text/plain": [
       "                                               description  rating-avg  \\\n",
       "0        SOLDIER FIVE is an elite soldier's explosive m...        4.03   \n",
       "1        John Moran and Carl Williams were the two bigg...        3.60   \n",
       "2        Sir Phillip knew that Eloise Bridgerton was a ...        3.88   \n",
       "3        The Third Book of General Ignorance  gathers t...        4.17   \n",
       "4        The Try Guys deliver their first book-an inspi...        3.90   \n",
       "...                                                    ...         ...   \n",
       "1109378                                                NaN         NaN   \n",
       "1109379  This 2020 Diary/Planner has one week per 2 pag...         NaN   \n",
       "1109380  This special re-print edition of James A. Crui...         NaN   \n",
       "1109381  Good western riding doesn't just happen. J.P. ...         NaN   \n",
       "1109382  This complete guide tells how to develop the h...         NaN   \n",
       "\n",
       "                                                     title  \n",
       "0        Soldier Five : The Real Truth About The Bravo ...  \n",
       "1                            Underbelly : The Gangland War  \n",
       "2                                  A Sir Phillip, Con Amor  \n",
       "3                  QI: The Third Book of General Ignorance  \n",
       "4                           The Hidden Power of F*cking Up  \n",
       "...                                                    ...  \n",
       "1109378                          Making Money at the Races  \n",
       "1109379  2020 : Diary, Weekly Planner, Organiser, Year ...  \n",
       "1109380                               Canoeing and Camping  \n",
       "1109381  The Complete Guide to Western Horsemanship (Cl...  \n",
       "1109382  Show Ring Success : A Rider's Guide to Winning...  \n",
       "\n",
       "[1109383 rows x 3 columns]"
      ]
     },
     "execution_count": 10,
     "metadata": {},
     "output_type": "execute_result"
    }
   ],
   "source": [
    "# how often does each age group occur?  \n",
    "vc = df[\"for-ages\"].value_counts(dropna=False) # include missing values\n",
    "display(vc) \n",
    "\n",
    "\n",
    "# most are NaN, so for-ages is of little use for your purposes\n",
    "\n",
    "# drop the for-ages column\n",
    "df = df.drop(columns=[\"for-ages\"])\n",
    "df\n"
   ]
  },
  {
   "cell_type": "code",
   "execution_count": 14,
   "metadata": {},
   "outputs": [
    {
     "data": {
      "text/plain": [
       "NaN     440130\n",
       "4.00     54165\n",
       "5.00     42245\n",
       "3.00     23262\n",
       "4.50     15264\n",
       "         ...  \n",
       "1.12         1\n",
       "1.36         1\n",
       "2.03         1\n",
       "2.13         1\n",
       "4.98         1\n",
       "Name: rating-avg, Length: 324, dtype: int64"
      ]
     },
     "metadata": {},
     "output_type": "display_data"
    }
   ],
   "source": [
    "# how often does each rating-avg occur?  \n",
    "vc = df[\"rating-avg\"].value_counts(dropna=False) # include missing values\n",
    "display(vc) \n",
    "\n",
    "# not sure if this is useful?"
   ]
  },
  {
   "cell_type": "code",
   "execution_count": 13,
   "metadata": {},
   "outputs": [
    {
     "data": {
      "text/plain": [
       "<AxesSubplot:ylabel='Frequency'>"
      ]
     },
     "execution_count": 13,
     "metadata": {},
     "output_type": "execute_result"
    },
    {
     "data": {
      "image/png": "[encoded data removed]",
      "text/plain": [
       "<Figure size 432x288 with 1 Axes>"
      ]
     },
     "metadata": {
      "needs_background": "light"
     },
     "output_type": "display_data"
    }
   ],
   "source": [
    "# plot rating-avg\n",
    "df[\"rating-avg\"].plot.hist(bins=100, alpha=0.5)"
   ]
  },
  {
   "cell_type": "code",
   "execution_count": 15,
   "metadata": {},
   "outputs": [
    {
     "data": {
      "text/html": [
       "<div>\n",
       "<style scoped>\n",
       "    .dataframe tbody tr th:only-of-type {\n",
       "        vertical-align: middle;\n",
       "    }\n",
       "\n",
       "    .dataframe tbody tr th {\n",
       "        vertical-align: top;\n",
       "    }\n",
       "\n",
       "    .dataframe thead th {\n",
       "        text-align: right;\n",
       "    }\n",
       "</style>\n",
       "<table border=\"1\" class=\"dataframe\">\n",
       "  <thead>\n",
       "    <tr style=\"text-align: right;\">\n",
       "      <th></th>\n",
       "      <th>description</th>\n",
       "      <th>title</th>\n",
       "    </tr>\n",
       "  </thead>\n",
       "  <tbody>\n",
       "    <tr>\n",
       "      <th>0</th>\n",
       "      <td>SOLDIER FIVE is an elite soldier's explosive m...</td>\n",
       "      <td>Soldier Five : The Real Truth About The Bravo ...</td>\n",
       "    </tr>\n",
       "    <tr>\n",
       "      <th>1</th>\n",
       "      <td>John Moran and Carl Williams were the two bigg...</td>\n",
       "      <td>Underbelly : The Gangland War</td>\n",
       "    </tr>\n",
       "    <tr>\n",
       "      <th>2</th>\n",
       "      <td>Sir Phillip knew that Eloise Bridgerton was a ...</td>\n",
       "      <td>A Sir Phillip, Con Amor</td>\n",
       "    </tr>\n",
       "    <tr>\n",
       "      <th>3</th>\n",
       "      <td>The Third Book of General Ignorance  gathers t...</td>\n",
       "      <td>QI: The Third Book of General Ignorance</td>\n",
       "    </tr>\n",
       "    <tr>\n",
       "      <th>4</th>\n",
       "      <td>The Try Guys deliver their first book-an inspi...</td>\n",
       "      <td>The Hidden Power of F*cking Up</td>\n",
       "    </tr>\n",
       "    <tr>\n",
       "      <th>...</th>\n",
       "      <td>...</td>\n",
       "      <td>...</td>\n",
       "    </tr>\n",
       "    <tr>\n",
       "      <th>1109378</th>\n",
       "      <td>NaN</td>\n",
       "      <td>Making Money at the Races</td>\n",
       "    </tr>\n",
       "    <tr>\n",
       "      <th>1109379</th>\n",
       "      <td>This 2020 Diary/Planner has one week per 2 pag...</td>\n",
       "      <td>2020 : Diary, Weekly Planner, Organiser, Year ...</td>\n",
       "    </tr>\n",
       "    <tr>\n",
       "      <th>1109380</th>\n",
       "      <td>This special re-print edition of James A. Crui...</td>\n",
       "      <td>Canoeing and Camping</td>\n",
       "    </tr>\n",
       "    <tr>\n",
       "      <th>1109381</th>\n",
       "      <td>Good western riding doesn't just happen. J.P. ...</td>\n",
       "      <td>The Complete Guide to Western Horsemanship (Cl...</td>\n",
       "    </tr>\n",
       "    <tr>\n",
       "      <th>1109382</th>\n",
       "      <td>This complete guide tells how to develop the h...</td>\n",
       "      <td>Show Ring Success : A Rider's Guide to Winning...</td>\n",
       "    </tr>\n",
       "  </tbody>\n",
       "</table>\n",
       "<p>1109383 rows × 2 columns</p>\n",
       "</div>"
      ],
      "text/plain": [
       "                                               description  \\\n",
       "0        SOLDIER FIVE is an elite soldier's explosive m...   \n",
       "1        John Moran and Carl Williams were the two bigg...   \n",
       "2        Sir Phillip knew that Eloise Bridgerton was a ...   \n",
       "3        The Third Book of General Ignorance  gathers t...   \n",
       "4        The Try Guys deliver their first book-an inspi...   \n",
       "...                                                    ...   \n",
       "1109378                                                NaN   \n",
       "1109379  This 2020 Diary/Planner has one week per 2 pag...   \n",
       "1109380  This special re-print edition of James A. Crui...   \n",
       "1109381  Good western riding doesn't just happen. J.P. ...   \n",
       "1109382  This complete guide tells how to develop the h...   \n",
       "\n",
       "                                                     title  \n",
       "0        Soldier Five : The Real Truth About The Bravo ...  \n",
       "1                            Underbelly : The Gangland War  \n",
       "2                                  A Sir Phillip, Con Amor  \n",
       "3                  QI: The Third Book of General Ignorance  \n",
       "4                           The Hidden Power of F*cking Up  \n",
       "...                                                    ...  \n",
       "1109378                          Making Money at the Races  \n",
       "1109379  2020 : Diary, Weekly Planner, Organiser, Year ...  \n",
       "1109380                               Canoeing and Camping  \n",
       "1109381  The Complete Guide to Western Horsemanship (Cl...  \n",
       "1109382  Show Ring Success : A Rider's Guide to Winning...  \n",
       "\n",
       "[1109383 rows x 2 columns]"
      ]
     },
     "execution_count": 15,
     "metadata": {},
     "output_type": "execute_result"
    }
   ],
   "source": [
    "# drop the rating-avg column\n",
    "df = df.drop(columns=[\"rating-avg\"])\n",
    "df\n"
   ]
  },
  {
   "cell_type": "code",
   "execution_count": 31,
   "metadata": {},
   "outputs": [],
   "source": [
    "# save df to csv file\n",
    "df.to_csv(\"dataset_filtered.csv\", index=False)"
   ]
  }
 ],
 "metadata": {
  "kernelspec": {
   "display_name": "Python 3",
   "language": "python",
   "name": "python3"
  },
  "language_info": {
   "codemirror_mode": {
    "name": "ipython",
    "version": 3
   },
   "file_extension": ".py",
   "mimetype": "text/x-python",
   "name": "python",
   "nbconvert_exporter": "python",
   "pygments_lexer": "ipython3",
   "version": "3.10.9"
  },
  "orig_nbformat": 4
 },
 "nbformat": 4,
 "nbformat_minor": 2
}
